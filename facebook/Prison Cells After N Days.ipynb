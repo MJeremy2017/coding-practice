{
 "cells": [
  {
   "cell_type": "markdown",
   "metadata": {},
   "source": [
    "## Prison Cells After N Days\n",
    "---\n",
    "```\n",
    "There are 8 prison cells in a row, and each cell is either occupied or vacant.\n",
    "\n",
    "Each day, whether the cell is occupied or vacant changes according to the following rules:\n",
    "\n",
    "If a cell has two adjacent neighbors that are both occupied or both vacant, then the cell becomes occupied.\n",
    "Otherwise, it becomes vacant.\n",
    "(Note that because the prison is a row, the first and the last cells in the row can't have two adjacent neighbors.)\n",
    "\n",
    "We describe the current state of the prison in the following way: cells[i] == 1 if the i-th cell is occupied, else cells[i] == 0.\n",
    "\n",
    "Given the initial state of the prison, return the state of the prison after N days (and N such changes described above.)\n",
    "```\n",
    " \n",
    "```python\n",
    "Example 1:\n",
    "\n",
    "Input: cells = [0,1,0,1,1,0,0,1], N = 7\n",
    "Output: [0,0,1,1,0,0,0,0]\n",
    "Explanation: \n",
    "The following table summarizes the state of the prison on each day:\n",
    "Day 0: [0, 1, 0, 1, 1, 0, 0, 1]\n",
    "Day 1: [0, 1, 1, 0, 0, 0, 0, 0]\n",
    "Day 2: [0, 0, 0, 0, 1, 1, 1, 0]\n",
    "Day 3: [0, 1, 1, 0, 0, 1, 0, 0]\n",
    "Day 4: [0, 0, 0, 0, 0, 1, 0, 0]\n",
    "Day 5: [0, 1, 1, 1, 0, 1, 0, 0]\n",
    "Day 6: [0, 0, 1, 0, 1, 1, 0, 0]\n",
    "Day 7: [0, 0, 1, 1, 0, 0, 0, 0]\n",
    "```"
   ]
  },
  {
   "cell_type": "code",
   "execution_count": 1,
   "metadata": {},
   "outputs": [],
   "source": [
    "class Solution:\n",
    "    def prisonAfterNDays(self, cells, N: int):\n",
    "        seen = {str(cells): N}\n",
    "        while N:\n",
    "            seen.setdefault(str(cells), N)\n",
    "            N -= 1\n",
    "            cells = [0] + [cells[i - 1] ^ cells[i + 1] ^ 1 for i in range(1, 7)] + [0]\n",
    "            if str(cells) in seen:\n",
    "                N %= seen[str(cells)] - N\n",
    "        return cells"
   ]
  },
  {
   "cell_type": "code",
   "execution_count": null,
   "metadata": {},
   "outputs": [],
   "source": []
  }
 ],
 "metadata": {
  "kernelspec": {
   "display_name": "Python 3",
   "language": "python",
   "name": "python3"
  },
  "language_info": {
   "codemirror_mode": {
    "name": "ipython",
    "version": 3
   },
   "file_extension": ".py",
   "mimetype": "text/x-python",
   "name": "python",
   "nbconvert_exporter": "python",
   "pygments_lexer": "ipython3",
   "version": "3.7.7"
  }
 },
 "nbformat": 4,
 "nbformat_minor": 4
}
