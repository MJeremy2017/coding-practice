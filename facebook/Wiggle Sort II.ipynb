{
 "cells": [
  {
   "cell_type": "markdown",
   "metadata": {},
   "source": [
    "## Wiggle Sort II\n",
    "---\n",
    "```\n",
    "Given an unsorted array nums, reorder it such that nums[0] < nums[1] > nums[2] < nums[3]....\n",
    "```\n",
    "\n",
    "```python\n",
    "Example 1:\n",
    "\n",
    "Input: nums = [1, 5, 1, 1, 6, 4]\n",
    "Output: One possible answer is [1, 4, 1, 5, 1, 6].\n",
    "Example 2:\n",
    "\n",
    "Input: nums = [1, 3, 2, 2, 3, 1]\n",
    "Output: One possible answer is [2, 3, 1, 3, 1, 2].\n",
    "```"
   ]
  },
  {
   "cell_type": "code",
   "execution_count": 1,
   "metadata": {},
   "outputs": [],
   "source": [
    "import math\n",
    "\n",
    "class Solution:\n",
    "    def wiggleSort(self, nums) -> None:\n",
    "        \"\"\"\n",
    "        Do not return anything, modify nums in-place instead.\n",
    "        \"\"\"\n",
    "        n = len(nums)\n",
    "        nums.sort()\n",
    "        split = math.ceil(n/2)\n",
    "        nums[::2], nums[1::2] = nums[:split][::-1], nums[split:][::-1]"
   ]
  },
  {
   "cell_type": "code",
   "execution_count": null,
   "metadata": {},
   "outputs": [],
   "source": []
  }
 ],
 "metadata": {
  "kernelspec": {
   "display_name": "Python 3",
   "language": "python",
   "name": "python3"
  },
  "language_info": {
   "codemirror_mode": {
    "name": "ipython",
    "version": 3
   },
   "file_extension": ".py",
   "mimetype": "text/x-python",
   "name": "python",
   "nbconvert_exporter": "python",
   "pygments_lexer": "ipython3",
   "version": "3.7.7"
  }
 },
 "nbformat": 4,
 "nbformat_minor": 4
}
