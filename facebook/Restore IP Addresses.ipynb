{
 "cells": [
  {
   "cell_type": "markdown",
   "metadata": {},
   "source": [
    "## Restore IP Addresses\n",
    "---\n",
    "```\n",
    "Given a string s containing only digits, return all possible valid IP addresses that can be obtained from s. You can return them in any order.\n",
    "\n",
    "A valid IP address consists of exactly four integers, each integer is between 0 and 255, separated by single dots and cannot have leading zeros. For example, \"0.1.2.201\" and \"192.168.1.1\" are valid IP addresses and \"0.011.255.245\", \"192.168.1.312\" and \"192.168@1.1\" are invalid IP addresses. \n",
    "```\n",
    " \n",
    "```\n",
    "Example 1:\n",
    "\n",
    "Input: s = \"25525511135\"\n",
    "Output: [\"255.255.11.135\",\"255.255.111.35\"]\n",
    "Example 2:\n",
    "\n",
    "Input: s = \"0000\"\n",
    "Output: [\"0.0.0.0\"]\n",
    "Example 3:\n",
    "\n",
    "Input: s = \"1111\"\n",
    "Output: [\"1.1.1.1\"]\n",
    "```"
   ]
  },
  {
   "cell_type": "code",
   "execution_count": 1,
   "metadata": {},
   "outputs": [],
   "source": [
    "class Solution(object):\n",
    "    def __init__(self):\n",
    "        self.res = []\n",
    "\n",
    "    def restoreIpAddresses(self, s):\n",
    "        \"\"\"\n",
    "        :type s: str\n",
    "        :rtype: List[str]\n",
    "        \"\"\"\n",
    "        self.helper(s, [])\n",
    "        return self.res\n",
    "    \n",
    "    def helper(self, cands, chosen):\n",
    "        if len(cands) == 0 and len(chosen) == 4:\n",
    "            ip = '.'.join(chosen)\n",
    "            self.res.append(ip)\n",
    "        if len(chosen) > 4:\n",
    "            return\n",
    "        if len(cands) > 0:\n",
    "            a = cands[0]\n",
    "            remain = cands[1:]\n",
    "            self.helper(remain, chosen+[a])\n",
    "        if len(cands) > 1:\n",
    "            a = cands[:2]\n",
    "            if int(a) >= 10 and int(a) <= 99:\n",
    "                remain = cands[2:]\n",
    "                self.helper(remain, chosen+[a])\n",
    "        if len(cands) > 2:\n",
    "            a = cands[:3]\n",
    "            if int(a) >= 100 and int(a) <= 255:\n",
    "                remain = cands[3:]\n",
    "                self.helper(remain, chosen+[a])"
   ]
  },
  {
   "cell_type": "code",
   "execution_count": null,
   "metadata": {},
   "outputs": [],
   "source": []
  }
 ],
 "metadata": {
  "kernelspec": {
   "display_name": "Python 3",
   "language": "python",
   "name": "python3"
  },
  "language_info": {
   "codemirror_mode": {
    "name": "ipython",
    "version": 3
   },
   "file_extension": ".py",
   "mimetype": "text/x-python",
   "name": "python",
   "nbconvert_exporter": "python",
   "pygments_lexer": "ipython3",
   "version": "3.7.7"
  }
 },
 "nbformat": 4,
 "nbformat_minor": 4
}
