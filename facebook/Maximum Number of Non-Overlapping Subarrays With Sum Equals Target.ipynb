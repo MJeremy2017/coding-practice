{
 "cells": [
  {
   "cell_type": "markdown",
   "metadata": {},
   "source": [
    "## Maximum Number of Non-Overlapping Subarrays With Sum Equals Target\n",
    "---\n",
    "```\n",
    "Given an array nums and an integer target.\n",
    "\n",
    "Return the maximum number of non-empty non-overlapping subarrays such that the sum of values in each subarray is equal to target.\n",
    "```\n",
    " \n",
    "```\n",
    "Example 1:\n",
    "\n",
    "Input: nums = [1,1,1,1,1], target = 2\n",
    "Output: 2\n",
    "Explanation: There are 2 non-overlapping subarrays [1,1,1,1,1] with sum equals to target(2).\n",
    "Example 2:\n",
    "\n",
    "Input: nums = [-1,3,5,1,4,2,-9], target = 6\n",
    "Output: 2\n",
    "Explanation: There are 3 subarrays with sum equal to 6.\n",
    "([5,1], [4,2], [3,5,1,4,2,-9]) but only the first 2 are non-overlapping.\n",
    "```"
   ]
  },
  {
   "cell_type": "code",
   "execution_count": 1,
   "metadata": {},
   "outputs": [],
   "source": [
    "class Solution:\n",
    "    def maxNonOverlapping(self, nums, target: int) -> int:\n",
    "        for i in range(1, len(nums)+1):\n",
    "            forward_sum = sum(nums[:i])\n",
    "            if forward_sum == target:\n",
    "                return 1 + self.maxNonOverlapping(nums[i:], target)\n",
    "            backward_sum = 0\n",
    "            for j in range(i-1, -1, -1):\n",
    "                backward_sum += nums[j]\n",
    "                if backward_sum == target:\n",
    "                    return 1 + self.maxNonOverlapping(nums[i:], target)\n",
    "        return 0"
   ]
  },
  {
   "cell_type": "code",
   "execution_count": null,
   "metadata": {},
   "outputs": [],
   "source": []
  }
 ],
 "metadata": {
  "kernelspec": {
   "display_name": "Python 3",
   "language": "python",
   "name": "python3"
  },
  "language_info": {
   "codemirror_mode": {
    "name": "ipython",
    "version": 3
   },
   "file_extension": ".py",
   "mimetype": "text/x-python",
   "name": "python",
   "nbconvert_exporter": "python",
   "pygments_lexer": "ipython3",
   "version": "3.7.7"
  }
 },
 "nbformat": 4,
 "nbformat_minor": 4
}
