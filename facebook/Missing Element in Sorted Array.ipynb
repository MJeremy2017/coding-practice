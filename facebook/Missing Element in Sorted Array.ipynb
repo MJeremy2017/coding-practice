{
 "cells": [
  {
   "cell_type": "markdown",
   "metadata": {},
   "source": [
    "## Missing Element in Sorted Array\n",
    "---\n",
    "```\n",
    "Given a sorted array A of unique numbers, find the K-th missing number starting from the leftmost number of the array.\n",
    "```\n",
    " \n",
    "```python\n",
    "Example 1:\n",
    "\n",
    "Input: A = [4,7,9,10], K = 1\n",
    "Output: 5\n",
    "Explanation: \n",
    "The first missing number is 5.\n",
    "Example 2:\n",
    "\n",
    "Input: A = [4,7,9,10], K = 3\n",
    "Output: 8\n",
    "Explanation: \n",
    "The missing numbers are [5,6,8,...], hence the third missing number is 8.\n",
    "```\n",
    "\n",
    "<img src=\"images/missing_el.png\" width=\"700\">"
   ]
  },
  {
   "cell_type": "code",
   "execution_count": 1,
   "metadata": {},
   "outputs": [],
   "source": [
    "class Solution:\n",
    "    def missingElement(self, nums, k: int) -> int:\n",
    "        # Return how many numbers are missing until nums[idx]\n",
    "        missing = lambda idx: nums[idx] - nums[0] - idx\n",
    "            \n",
    "        n = len(nums)\n",
    "        # If kth missing number is larger than \n",
    "        # the last element of the array\n",
    "        if k > missing(n - 1):\n",
    "            return nums[-1] + k - missing(n - 1) \n",
    "        \n",
    "        left, right = 0, n - 1\n",
    "        # find left = right index such that \n",
    "        # missing(left - 1) < k <= missing(left)\n",
    "        while left != right:\n",
    "            pivot = left + (right - left) // 2\n",
    "            \n",
    "            if missing(pivot) < k:\n",
    "                left = pivot + 1\n",
    "            else:\n",
    "                right = pivot \n",
    "        \n",
    "        # kth missing number is greater than nums[left - 1]\n",
    "        # and less than nums[left]\n",
    "        return nums[left - 1] + k - missing(left - 1) "
   ]
  },
  {
   "cell_type": "code",
   "execution_count": null,
   "metadata": {},
   "outputs": [],
   "source": []
  }
 ],
 "metadata": {
  "kernelspec": {
   "display_name": "Python 3",
   "language": "python",
   "name": "python3"
  },
  "language_info": {
   "codemirror_mode": {
    "name": "ipython",
    "version": 3
   },
   "file_extension": ".py",
   "mimetype": "text/x-python",
   "name": "python",
   "nbconvert_exporter": "python",
   "pygments_lexer": "ipython3",
   "version": "3.7.7"
  }
 },
 "nbformat": 4,
 "nbformat_minor": 4
}
