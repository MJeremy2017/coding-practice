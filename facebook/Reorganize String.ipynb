{
 "cells": [
  {
   "cell_type": "markdown",
   "metadata": {},
   "source": [
    "## Reorganize String\n",
    "---\n",
    "```\n",
    "Given a string S, check if the letters can be rearranged so that two characters that are adjacent to each other are not the same.\n",
    "\n",
    "If possible, output any possible result.  If not possible, return the empty string.\n",
    "```\n",
    "\n",
    "```python\n",
    "Example 1:\n",
    "\n",
    "Input: S = \"aab\"\n",
    "Output: \"aba\"\n",
    "Example 2:\n",
    "\n",
    "Input: S = \"aaab\"\n",
    "Output: \"\"\n",
    "Note:\n",
    "\n",
    "S will consist of lowercase letters and have length in range [1, 500].\n",
    "```"
   ]
  },
  {
   "cell_type": "code",
   "execution_count": 1,
   "metadata": {},
   "outputs": [],
   "source": [
    "class Solution(object):\n",
    "    def reorganizeString(self, S):\n",
    "        N = len(S)\n",
    "        A = []\n",
    "        for c, x in sorted((S.count(x), x) for x in set(S)):\n",
    "            if c > (N+1)/2: return \"\"\n",
    "            A.extend(c * x)\n",
    "        print(A)\n",
    "        ans = [None] * N\n",
    "        ans[::2], ans[1::2] = A[N//2:], A[:N//2]\n",
    "        return \"\".join(ans)"
   ]
  },
  {
   "cell_type": "code",
   "execution_count": null,
   "metadata": {},
   "outputs": [],
   "source": []
  }
 ],
 "metadata": {
  "kernelspec": {
   "display_name": "Python 3",
   "language": "python",
   "name": "python3"
  },
  "language_info": {
   "codemirror_mode": {
    "name": "ipython",
    "version": 3
   },
   "file_extension": ".py",
   "mimetype": "text/x-python",
   "name": "python",
   "nbconvert_exporter": "python",
   "pygments_lexer": "ipython3",
   "version": "3.7.7"
  }
 },
 "nbformat": 4,
 "nbformat_minor": 4
}
