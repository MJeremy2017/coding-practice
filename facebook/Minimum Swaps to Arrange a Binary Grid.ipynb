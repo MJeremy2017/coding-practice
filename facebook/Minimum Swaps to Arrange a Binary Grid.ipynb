{
 "cells": [
  {
   "cell_type": "markdown",
   "metadata": {},
   "source": [
    "## Minimum Swaps to Arrange a Binary Grid\n",
    "---\n",
    "```\n",
    "Given an n x n binary grid, in one step you can choose two adjacent rows of the grid and swap them.\n",
    "\n",
    "A grid is said to be valid if all the cells above the main diagonal are zeros.\n",
    "\n",
    "Return the minimum number of steps needed to make the grid valid, or -1 if the grid cannot be valid.\n",
    "\n",
    "The main diagonal of a grid is the diagonal that starts at cell (1, 1) and ends at cell (n, n).\n",
    "```\n",
    " \n",
    "```\n",
    "Example 1:\n",
    "```\n",
    "\n",
    "<img src=\"images/swaps.png\" width=\"700\">\n",
    "\n",
    "```python\n",
    "Input: grid = [[0,0,1],[1,1,0],[1,0,0]]\n",
    "Output: 3\n",
    "```"
   ]
  },
  {
   "cell_type": "code",
   "execution_count": 1,
   "metadata": {},
   "outputs": [],
   "source": [
    "class Solution:\n",
    "    \n",
    "    def getRow(self, grid, n_zeros):\n",
    "        n = len(grid)\n",
    "        sub_grid = []\n",
    "        for i in range(n):\n",
    "            row = grid[i]\n",
    "            if sum(row[-n_zeros:]) == 0:\n",
    "                grid.pop(i)\n",
    "                return i, grid\n",
    "        return -1, grid\n",
    "        \n",
    "    def minSwaps(self, grid) -> int:\n",
    "        n = len(grid)\n",
    "        total = 0\n",
    "        for i in range(n-1, 0, -1):\n",
    "            r, grid = self.getRow(grid, i)\n",
    "            if r == -1:\n",
    "                return -1\n",
    "            # print(r, grid)\n",
    "            total += r\n",
    "        return total"
   ]
  },
  {
   "cell_type": "code",
   "execution_count": null,
   "metadata": {},
   "outputs": [],
   "source": []
  }
 ],
 "metadata": {
  "kernelspec": {
   "display_name": "Python 3",
   "language": "python",
   "name": "python3"
  },
  "language_info": {
   "codemirror_mode": {
    "name": "ipython",
    "version": 3
   },
   "file_extension": ".py",
   "mimetype": "text/x-python",
   "name": "python",
   "nbconvert_exporter": "python",
   "pygments_lexer": "ipython3",
   "version": "3.7.7"
  }
 },
 "nbformat": 4,
 "nbformat_minor": 4
}
