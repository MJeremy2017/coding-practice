{
 "cells": [
  {
   "cell_type": "markdown",
   "metadata": {},
   "source": [
    "## Valid Palindrome\n",
    "---\n",
    "```\n",
    "Given a string, determine if it is a palindrome, considering only alphanumeric characters and ignoring cases.\n",
    "\n",
    "Note: For the purpose of this problem, we define empty string as valid palindrome.\n",
    "```\n",
    "```python\n",
    "Example 1:\n",
    "\n",
    "Input: \"A man, a plan, a canal: Panama\"\n",
    "Output: true\n",
    "Example 2:\n",
    "\n",
    "Input: \"race a car\"\n",
    "Output: false\n",
    "```"
   ]
  },
  {
   "cell_type": "code",
   "execution_count": 1,
   "metadata": {},
   "outputs": [],
   "source": [
    "class Solution:\n",
    "    def isPalindrome(self, s: str) -> bool:\n",
    "        i, j = 0, len(s) - 1\n",
    "        \n",
    "        while i < j:\n",
    "            first, last = s[i], s[j]\n",
    "            while not first.isalnum() and i < j:\n",
    "                i += 1\n",
    "                first = s[i]\n",
    "            while not last.isalnum() and i < j:\n",
    "                j -= 1\n",
    "                last = s[j]\n",
    "            if first.lower() != last.lower():\n",
    "                return False\n",
    "            i += 1\n",
    "            j -= 1\n",
    "        return True"
   ]
  },
  {
   "cell_type": "code",
   "execution_count": null,
   "metadata": {},
   "outputs": [],
   "source": []
  }
 ],
 "metadata": {
  "kernelspec": {
   "display_name": "Python 3",
   "language": "python",
   "name": "python3"
  },
  "language_info": {
   "codemirror_mode": {
    "name": "ipython",
    "version": 3
   },
   "file_extension": ".py",
   "mimetype": "text/x-python",
   "name": "python",
   "nbconvert_exporter": "python",
   "pygments_lexer": "ipython3",
   "version": "3.7.7"
  }
 },
 "nbformat": 4,
 "nbformat_minor": 4
}
