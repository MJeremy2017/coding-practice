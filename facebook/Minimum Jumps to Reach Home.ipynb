{
 "cells": [
  {
   "cell_type": "markdown",
   "metadata": {},
   "source": [
    "## Minimum Jumps to Reach Home\n",
    "---\n",
    "```\n",
    "A certain bug's home is on the x-axis at position x. Help them get there from position 0.\n",
    "\n",
    "The bug jumps according to the following rules:\n",
    "\n",
    "It can jump exactly a positions forward (to the right).\n",
    "It can jump exactly b positions backward (to the left).\n",
    "It cannot jump backward twice in a row.\n",
    "It cannot jump to any forbidden positions.\n",
    "The bug may jump forward beyond its home, but it cannot jump to positions numbered with negative integers.\n",
    "\n",
    "Given an array of integers forbidden, where forbidden[i] means that the bug cannot jump to the position forbidden[i], and integers a, b, and x, return the minimum number of jumps needed for the bug to reach its home. If there is no possible sequence of jumps that lands the bug on position x, return -1.\n",
    "```\n",
    " \n",
    "```python\n",
    "Example 1:\n",
    "\n",
    "Input: forbidden = [14,4,18,1,15], a = 3, b = 15, x = 9\n",
    "Output: 3\n",
    "Explanation: 3 jumps forward (0 -> 3 -> 6 -> 9) will get the bug home.\n",
    "```"
   ]
  },
  {
   "cell_type": "code",
   "execution_count": 1,
   "metadata": {},
   "outputs": [],
   "source": [
    "class Solution:\n",
    "    def minimumJumps(self, forbidden, a: int, b: int, x: int) -> int:\n",
    "        toofar = max(forbidden) + b if a < b else x\n",
    "        minsofar = -1\n",
    "        \n",
    "        def dfs(pos: int, depth):\n",
    "            nonlocal minsofar\n",
    "            if pos < 0 or pos in forbidden or pos - b > x or minsofar > -1 and depth > minsofar:\n",
    "                return \n",
    "            if pos == x:\n",
    "                minsofar = depth if minsofar == -1 else min(minsofar, depth)\n",
    "                return\n",
    "            \n",
    "            dfs(pos + a, depth+1)\n",
    "            dfs(pos - b, depth+1)\n",
    "        dfs(0, 0)\n",
    "        return minsofar"
   ]
  },
  {
   "cell_type": "code",
   "execution_count": 6,
   "metadata": {},
   "outputs": [],
   "source": [
    "def f(n):\n",
    "    print(n)\n",
    "    if n == 1:\n",
    "        return 1\n",
    "    return f(n-1) + f(n-1)"
   ]
  },
  {
   "cell_type": "code",
   "execution_count": 7,
   "metadata": {},
   "outputs": [
    {
     "name": "stdout",
     "output_type": "stream",
     "text": [
      "4\n",
      "3\n",
      "2\n",
      "1\n",
      "1\n",
      "2\n",
      "1\n",
      "1\n",
      "3\n",
      "2\n",
      "1\n",
      "1\n",
      "2\n",
      "1\n",
      "1\n"
     ]
    },
    {
     "data": {
      "text/plain": [
       "8"
      ]
     },
     "execution_count": 7,
     "metadata": {},
     "output_type": "execute_result"
    }
   ],
   "source": [
    "f(4)"
   ]
  },
  {
   "cell_type": "code",
   "execution_count": null,
   "metadata": {},
   "outputs": [],
   "source": []
  }
 ],
 "metadata": {
  "kernelspec": {
   "display_name": "Python 3",
   "language": "python",
   "name": "python3"
  },
  "language_info": {
   "codemirror_mode": {
    "name": "ipython",
    "version": 3
   },
   "file_extension": ".py",
   "mimetype": "text/x-python",
   "name": "python",
   "nbconvert_exporter": "python",
   "pygments_lexer": "ipython3",
   "version": "3.7.7"
  }
 },
 "nbformat": 4,
 "nbformat_minor": 4
}
