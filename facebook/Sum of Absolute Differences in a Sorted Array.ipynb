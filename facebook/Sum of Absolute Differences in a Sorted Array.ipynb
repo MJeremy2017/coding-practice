{
 "cells": [
  {
   "cell_type": "markdown",
   "metadata": {},
   "source": [
    "## Sum of Absolute Differences in a Sorted Array\n",
    "---\n",
    "```\n",
    "You are given an integer array nums sorted in non-decreasing order.\n",
    "\n",
    "Build and return an integer array result with the same length as nums such that result[i] is equal to the summation of absolute differences between nums[i] and all the other elements in the array.\n",
    "\n",
    "In other words, result[i] is equal to sum(|nums[i]-nums[j]|) where 0 <= j < nums.length and j != i (0-indexed).\n",
    "```\n",
    " \n",
    "```python\n",
    "Example 1:\n",
    "\n",
    "Input: nums = [2,3,5]\n",
    "Output: [4,3,5]\n",
    "Explanation: Assuming the arrays are 0-indexed, then\n",
    "result[0] = |2-2| + |2-3| + |2-5| = 0 + 1 + 3 = 4,\n",
    "result[1] = |3-2| + |3-3| + |3-5| = 1 + 0 + 2 = 3,\n",
    "result[2] = |5-2| + |5-3| + |5-5| = 3 + 2 + 0 = 5.\n",
    "```"
   ]
  },
  {
   "cell_type": "code",
   "execution_count": 1,
   "metadata": {},
   "outputs": [],
   "source": [
    "class Solution:\n",
    "    def getSumAbsoluteDifferences(self, nums):\n",
    "        n = len(nums)\n",
    "        s = sum(nums)\n",
    "        \n",
    "        left = 0\n",
    "        res = []\n",
    "        for i in range(n):\n",
    "            num = nums[i]\n",
    "            right = s - num - left\n",
    "            # left part + right part\n",
    "            res.append(-left + num*i + right - num*(n - i - 1))\n",
    "            left += num\n",
    "        return res"
   ]
  },
  {
   "cell_type": "code",
   "execution_count": null,
   "metadata": {},
   "outputs": [],
   "source": []
  }
 ],
 "metadata": {
  "kernelspec": {
   "display_name": "Python 3",
   "language": "python",
   "name": "python3"
  },
  "language_info": {
   "codemirror_mode": {
    "name": "ipython",
    "version": 3
   },
   "file_extension": ".py",
   "mimetype": "text/x-python",
   "name": "python",
   "nbconvert_exporter": "python",
   "pygments_lexer": "ipython3",
   "version": "3.7.7"
  }
 },
 "nbformat": 4,
 "nbformat_minor": 4
}
