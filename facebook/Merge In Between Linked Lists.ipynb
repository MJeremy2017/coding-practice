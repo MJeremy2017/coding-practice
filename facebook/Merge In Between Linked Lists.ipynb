{
 "cells": [
  {
   "cell_type": "markdown",
   "metadata": {},
   "source": [
    "## Merge In Between Linked Lists\n",
    "---\n",
    "```\n",
    "You are given two linked lists: list1 and list2 of sizes n and m respectively.\n",
    "\n",
    "Remove list1's nodes from the ath node to the bth node, and put list2 in their place.\n",
    "\n",
    "The blue edges and nodes in the following figure incidate the result:\n",
    "```\n",
    "<img src=\"images/merged_list.png\" width=\"700\">\n",
    "\n",
    "\n",
    "\n",
    "Build the result list and return its head.\n",
    "\n",
    " \n",
    "```python\n",
    "Example 1:\n",
    "\n",
    "\n",
    "Input: list1 = [0,1,2,3,4,5], a = 3, b = 4, list2 = [1000000,1000001,1000002]\n",
    "Output: [0,1,2,1000000,1000001,1000002,5]\n",
    "Explanation: We remove the nodes 3 and 4 and put the entire list2 in their place. The blue edges and nodes in the above figure indicate the result.\n",
    "```"
   ]
  },
  {
   "cell_type": "code",
   "execution_count": 1,
   "metadata": {},
   "outputs": [],
   "source": [
    "# Definition for singly-linked list.\n",
    "class ListNode:\n",
    "    def __init__(self, val=0, next=None):\n",
    "        self.val = val\n",
    "        self.next = next\n",
    "\n",
    "\n",
    "class Solution:\n",
    "    def mergeInBetween(self, list1: ListNode, a: int, b: int, list2: ListNode) -> ListNode:\n",
    "        node1 = list1\n",
    "        node_new = node_res = ListNode(node1.val)\n",
    "        reach_first = 0\n",
    "        while b:\n",
    "            if a == 1:\n",
    "                node_new.next = list2\n",
    "                reach_first = 1\n",
    "                \n",
    "            node1 = node1.next\n",
    "            if not reach_first:\n",
    "                node_new.next = ListNode(node1.val)\n",
    "                node_new = node_new.next \n",
    "            a -= 1\n",
    "            b -= 1\n",
    "        \n",
    "        while node_new.next:\n",
    "            node_new = node_new.next\n",
    "        node_new.next = node1.next\n",
    "            \n",
    "        return node_res    "
   ]
  },
  {
   "cell_type": "code",
   "execution_count": null,
   "metadata": {},
   "outputs": [],
   "source": []
  }
 ],
 "metadata": {
  "kernelspec": {
   "display_name": "Python 3",
   "language": "python",
   "name": "python3"
  },
  "language_info": {
   "codemirror_mode": {
    "name": "ipython",
    "version": 3
   },
   "file_extension": ".py",
   "mimetype": "text/x-python",
   "name": "python",
   "nbconvert_exporter": "python",
   "pygments_lexer": "ipython3",
   "version": "3.7.7"
  }
 },
 "nbformat": 4,
 "nbformat_minor": 4
}
