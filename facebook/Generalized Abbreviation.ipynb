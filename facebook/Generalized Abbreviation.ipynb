{
 "cells": [
  {
   "cell_type": "markdown",
   "metadata": {},
   "source": [
    "## Generalized Abbreviation\n",
    "---\n",
    "```\n",
    "A word's generalized abbreviation can be constructed by taking any number of non-overlapping substrings and replacing them with their respective lengths. For example, \"abcde\" can be abbreviated into \"a3e\" (\"bcd\" turned into \"3\"), \"1bcd1\" (\"a\" and \"e\" both turned into \"1\"), and \"23\" (\"ab\" turned into \"2\" and \"cde\" turned into \"3\").\n",
    "\n",
    "Given a string word, return a list of all the possible generalized abbreviations of word. Return the answer in any order.\n",
    "```\n",
    " \n",
    "```python\n",
    "Example 1:\n",
    "\n",
    "Input: word = \"word\"\n",
    "Output: [\"4\",\"3d\",\"2r1\",\"2rd\",\"1o2\",\"1o1d\",\"1or1\",\"1ord\",\"w3\",\"w2d\",\"w1r1\",\"w1rd\",\"wo2\",\"wo1d\",\"wor1\",\"word\"]\n",
    "```"
   ]
  },
  {
   "cell_type": "code",
   "execution_count": 1,
   "metadata": {},
   "outputs": [],
   "source": [
    "class Solution:\n",
    "    def generateAbbreviations(self, word: str):\n",
    "        res = []\n",
    "        def helper(word, prefix):\n",
    "            if len(word) == 1:\n",
    "                res.append(prefix + word) \n",
    "                res.append(prefix + \"1\") \n",
    "                return\n",
    "            \n",
    "            helper(word[1:], prefix+word[0])\n",
    "            helper(word[1:], prefix+\"1\")\n",
    "        helper(word, \"\")\n",
    "\n",
    "        # merge \"1s\" into numbers        \n",
    "        new_res = []\n",
    "        for w in res:\n",
    "            new_w = \"\"\n",
    "            cons_int = 0\n",
    "            start = False\n",
    "            for c in w:\n",
    "                if not start:\n",
    "                    if c == \"1\":\n",
    "                        cons_int += 1\n",
    "                        start = True\n",
    "                    else:\n",
    "                        new_w += c\n",
    "                else:\n",
    "                    if c == \"1\":\n",
    "                        cons_int += 1\n",
    "                    else:\n",
    "                        start = False\n",
    "                        new_w += str(cons_int)\n",
    "                        new_w += c\n",
    "                        cons_int = 0\n",
    "            if start:\n",
    "                new_w += str(cons_int)\n",
    "            new_res.append(new_w)\n",
    "        return new_res"
   ]
  },
  {
   "cell_type": "code",
   "execution_count": null,
   "metadata": {},
   "outputs": [],
   "source": []
  }
 ],
 "metadata": {
  "kernelspec": {
   "display_name": "Python 3",
   "language": "python",
   "name": "python3"
  },
  "language_info": {
   "codemirror_mode": {
    "name": "ipython",
    "version": 3
   },
   "file_extension": ".py",
   "mimetype": "text/x-python",
   "name": "python",
   "nbconvert_exporter": "python",
   "pygments_lexer": "ipython3",
   "version": "3.7.7"
  }
 },
 "nbformat": 4,
 "nbformat_minor": 4
}
