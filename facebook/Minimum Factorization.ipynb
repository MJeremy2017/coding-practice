{
 "cells": [
  {
   "cell_type": "markdown",
   "metadata": {},
   "source": [
    "## Minimum Factorization\n",
    "---\n",
    "```\n",
    "Given a positive integer a, find the smallest positive integer b whose multiplication of each digit equals to a.\n",
    "\n",
    "If there is no answer or the answer is not fit in 32-bit signed integer, then return 0.\n",
    "```\n",
    "\n",
    "```python\n",
    "Example 1\n",
    "Input:\n",
    "\n",
    "48 \n",
    "Output:\n",
    "68\n",
    "```"
   ]
  },
  {
   "cell_type": "code",
   "execution_count": 1,
   "metadata": {},
   "outputs": [],
   "source": [
    "class Solution:\n",
    "    def smallestFactorization(self, a: int) -> int:\n",
    "        if a < 2:\n",
    "            return a\n",
    "        res = 0\n",
    "        mul = 1\n",
    "        while a!=1:\n",
    "            for i in range(9, 0, -1):\n",
    "                if i == 1:\n",
    "                    return 0\n",
    "                if a % i == 0:\n",
    "                    res += mul*i\n",
    "                    mul *= 10\n",
    "                    a //= i\n",
    "                    break\n",
    "        return res if res <= 2147483647 else 0"
   ]
  },
  {
   "cell_type": "code",
   "execution_count": null,
   "metadata": {},
   "outputs": [],
   "source": []
  }
 ],
 "metadata": {
  "kernelspec": {
   "display_name": "Python 3",
   "language": "python",
   "name": "python3"
  },
  "language_info": {
   "codemirror_mode": {
    "name": "ipython",
    "version": 3
   },
   "file_extension": ".py",
   "mimetype": "text/x-python",
   "name": "python",
   "nbconvert_exporter": "python",
   "pygments_lexer": "ipython3",
   "version": "3.7.7"
  }
 },
 "nbformat": 4,
 "nbformat_minor": 4
}
