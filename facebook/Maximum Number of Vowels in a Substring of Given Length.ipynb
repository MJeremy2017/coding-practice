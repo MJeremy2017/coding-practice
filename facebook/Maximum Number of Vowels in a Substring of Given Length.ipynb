{
 "cells": [
  {
   "cell_type": "markdown",
   "metadata": {},
   "source": [
    "## 1456. Maximum Number of Vowels in a Substring of Given Length\n",
    "---\n",
    "**Medium**\n",
    "\n",
    "```\n",
    "Given a string s and an integer k.\n",
    "Return the maximum number of vowel letters in any substring of s with length k.\n",
    "Vowel letters in English are (a, e, i, o, u).\n",
    "```\n",
    "\n",
    "\n",
    "```\n",
    "Example 1:\n",
    "\n",
    "Input: s = \"abciiidef\", k = 3\n",
    "Output: 3\n",
    "Explanation: The substring \"iii\" contains 3 vowel letters.\n",
    "Example 2:\n",
    "\n",
    "Input: s = \"aeiou\", k = 2\n",
    "Output: 2\n",
    "Explanation: Any substring of length 2 contains 2 vowels.\n",
    "```"
   ]
  },
  {
   "cell_type": "code",
   "execution_count": 1,
   "metadata": {},
   "outputs": [],
   "source": [
    "class Solution:\n",
    "    def maxVowels(self, s: str, k: int) -> int:\n",
    "        vowels = 'aeiou'\n",
    "        n = len(s)\n",
    "        maxCnt = 0\n",
    "        cnt = 0\n",
    "        for i in range(n):\n",
    "            if s[i] in vowels:\n",
    "                cnt += 1\n",
    "            \n",
    "            if i >= k:\n",
    "                if s[i - k] in vowels:\n",
    "                    cnt -= 1\n",
    "            maxCnt = max(maxCnt, cnt)\n",
    "        return maxCnt"
   ]
  },
  {
   "cell_type": "code",
   "execution_count": null,
   "metadata": {},
   "outputs": [],
   "source": []
  }
 ],
 "metadata": {
  "kernelspec": {
   "display_name": "Python 3",
   "language": "python",
   "name": "python3"
  },
  "language_info": {
   "codemirror_mode": {
    "name": "ipython",
    "version": 3
   },
   "file_extension": ".py",
   "mimetype": "text/x-python",
   "name": "python",
   "nbconvert_exporter": "python",
   "pygments_lexer": "ipython3",
   "version": "3.7.7"
  }
 },
 "nbformat": 4,
 "nbformat_minor": 4
}
