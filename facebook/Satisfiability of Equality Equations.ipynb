{
 "cells": [
  {
   "cell_type": "markdown",
   "metadata": {},
   "source": [
    "## Satisfiability of Equality Equations\n",
    "---\n",
    "```\n",
    "Given an array equations of strings that represent relationships between variables, each string equations[i] has length 4 and takes one of two different forms: \"a==b\" or \"a!=b\".  Here, a and b are lowercase letters (not necessarily different) that represent one-letter variable names.\n",
    "\n",
    "Return true if and only if it is possible to assign integers to variable names so as to satisfy all the given equations.\n",
    "```\n",
    " \n",
    "```python\n",
    "Example 1:\n",
    "\n",
    "Input: [\"a==b\",\"b!=a\"]\n",
    "Output: false\n",
    "Explanation: If we assign say, a = 1 and b = 1, then the first equation is satisfied, but not the second.  There is no way to assign the variables to satisfy both equations.\n",
    "    \n",
    "Example 2:\n",
    "\n",
    "Input: [\"b==a\",\"a==b\"]\n",
    "Output: true\n",
    "Explanation: We could assign a = 1 and b = 1 to satisfy both equations.\n",
    "```"
   ]
  },
  {
   "cell_type": "markdown",
   "metadata": {},
   "source": [
    "__Intuition__\n",
    "\n",
    "All variables that are equal to each other form connected components. For example, if a=b, b=c, c=d then a, b, c, d are in the same connected component as they all must be equal to each other.\n",
    "\n",
    "__Algorithm__\n",
    "\n",
    "First, we use a depth first search to color each variable by connected component based on these equality equations.\n",
    "\n",
    "After coloring these components, we can parse statements of the form a != b. If two components have the same color, then they must be equal, so if we say they can't be equal then it is impossible to satisfy the equations.\n",
    "\n",
    "Otherwise, our coloring demonstrates a way to satisfy the equations, and thus the result is true."
   ]
  },
  {
   "cell_type": "code",
   "execution_count": 1,
   "metadata": {},
   "outputs": [],
   "source": [
    "from collections import defaultdict\n",
    "\n",
    "class Solution:\n",
    "    def equationsPossible(self, equations) -> bool:\n",
    "        graph = defaultdict(set)\n",
    "        \n",
    "        for eqn in equations:\n",
    "            if eqn[1] == '=':\n",
    "                x = eqn[0]\n",
    "                y = eqn[3]\n",
    "                graph[x].add(y)\n",
    "                graph[y].add(x)\n",
    "        \n",
    "        color = defaultdict(list)\n",
    "        for k, v in graph.items():\n",
    "            q = [k]\n",
    "            while q:\n",
    "                node = q.pop(0)\n",
    "                if node not in color[k]:\n",
    "                    color[k].append(node)\n",
    "                    q.extend(list(graph[node]))\n",
    "\n",
    "        for eqn in equations:\n",
    "            if eqn[1] == \"!\":\n",
    "                x = eqn[0]\n",
    "                y = eqn[3]\n",
    "                if x in color[y] or x == y:\n",
    "                    return False\n",
    "        return True "
   ]
  },
  {
   "cell_type": "code",
   "execution_count": null,
   "metadata": {},
   "outputs": [],
   "source": []
  }
 ],
 "metadata": {
  "kernelspec": {
   "display_name": "Python 3",
   "language": "python",
   "name": "python3"
  },
  "language_info": {
   "codemirror_mode": {
    "name": "ipython",
    "version": 3
   },
   "file_extension": ".py",
   "mimetype": "text/x-python",
   "name": "python",
   "nbconvert_exporter": "python",
   "pygments_lexer": "ipython3",
   "version": "3.7.7"
  }
 },
 "nbformat": 4,
 "nbformat_minor": 4
}
